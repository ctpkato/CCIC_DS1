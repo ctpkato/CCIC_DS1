{
 "cells": [
  {
   "cell_type": "code",
   "execution_count": 40,
   "id": "549c713a",
   "metadata": {},
   "outputs": [
    {
     "name": "stdout",
     "output_type": "stream",
     "text": [
      "['shrimp', 'lumpia', 'fish']\n"
     ]
    },
    {
     "data": {
      "text/plain": [
       "'fish'"
      ]
     },
     "execution_count": 40,
     "metadata": {},
     "output_type": "execute_result"
    }
   ],
   "source": [
    "foods = [\"sisig\", \"lumpia\", \"ramen\"]\n",
    "foods[0] = \"shrimp\"\n",
    "foods[len(foods)-1] = \"fish\"\n",
    "print(foods)\n",
    "foods[len(foods)-1]"
   ]
  },
  {
   "cell_type": "code",
   "execution_count": 51,
   "id": "146fe551",
   "metadata": {},
   "outputs": [
    {
     "data": {
      "text/plain": [
       "50.4"
      ]
     },
     "execution_count": 51,
     "metadata": {},
     "output_type": "execute_result"
    }
   ],
   "source": [
    "studentsList = [[\"Student\", \"Height\", \"Weight\", \"Age\"],\n",
    "[\"Ellie\", 55.2, 60, 10], \n",
    "[\"Sofia\", 58.8, 75, 11], \n",
    "[\"Jesus\", 60, 75, 11], \n",
    "[\"Jamal\", 50.4, 45, 10], \n",
    "[\"Poppy\", 61.2, 80, 11]]\n",
    "studentsList[len(studentsList)-2][1]"
   ]
  },
  {
   "cell_type": "code",
   "execution_count": null,
   "id": "dd8fb8a3",
   "metadata": {},
   "outputs": [],
   "source": []
  }
 ],
 "metadata": {
  "kernelspec": {
   "display_name": "Python 3 (ipykernel)",
   "language": "python",
   "name": "python3"
  },
  "language_info": {
   "codemirror_mode": {
    "name": "ipython",
    "version": 3
   },
   "file_extension": ".py",
   "mimetype": "text/x-python",
   "name": "python",
   "nbconvert_exporter": "python",
   "pygments_lexer": "ipython3",
   "version": "3.9.12"
  }
 },
 "nbformat": 4,
 "nbformat_minor": 5
}
