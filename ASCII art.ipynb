{
 "cells": [
  {
   "cell_type": "code",
   "execution_count": 2,
   "id": "278b93cb",
   "metadata": {},
   "outputs": [
    {
     "name": "stdout",
     "output_type": "stream",
     "text": [
      "Hello World! My name is Christian Thomas Kato\n"
     ]
    }
   ],
   "source": [
    "print(\"Hello World! My name is Christian Thomas Kato\")"
   ]
  },
  {
   "cell_type": "code",
   "execution_count": 39,
   "id": "bbdbfa2e",
   "metadata": {},
   "outputs": [
    {
     "name": "stdout",
     "output_type": "stream",
     "text": [
      "                        _______________________\n",
      "                       <                       >\n",
      "                        -----------------------\n",
      "                        |                     |\n",
      "                        |                     |\n",
      "                        |                     |\n",
      "                        |    _ _              |\n",
      "                        |   | | |             |\n",
      "                        |   |_|_|             |\n",
      "                        |   | | |             |\n",
      "                        |   |_|_|     _ _     |\n",
      "                        |            | | |    |\n",
      "                        |            |_|_|    |\n",
      "                        |            | | |    |\n",
      "                        |            |_|_|    |\n",
      "                        |    _ _              |\n",
      "                        |   | | |             |\n",
      "                        |   |_|_|             |\n",
      "                        |   | | |             |\n",
      "                        |   |_|_|             |\n",
      "                        |                     |\n",
      "                        |                     |\n",
      "                        |                     |\n",
      "                        |                     |\n",
      "                        |        _____        |\n",
      "                        |       |     |       |\n",
      "                        |       |     |       |\n",
      "                        |       |   o |       |\n",
      "                        |       |     |       |\n",
      "                        |       |     |       |\n"
     ]
    }
   ],
   "source": [
    "print(\"                        _______________________\")\n",
    "print(\"                       <                       >\")\n",
    "print(\"                        -----------------------\")\n",
    "print(\"                        |                     |\")\n",
    "print(\"                        |                     |\")\n",
    "print(\"                        |                     |\")\n",
    "print(\"                        |    _ _              |\")\n",
    "print(\"                        |   | | |             |\")\n",
    "print(\"                        |   |_|_|             |\")\n",
    "print(\"                        |   | | |             |\")\n",
    "print(\"                        |   |_|_|     _ _     |\")\n",
    "print(\"                        |            | | |    |\")\n",
    "print(\"                        |            |_|_|    |\")\n",
    "print(\"                        |            | | |    |\")\n",
    "print(\"                        |            |_|_|    |\")\n",
    "print(\"                        |    _ _              |\")\n",
    "print(\"                        |   | | |             |\")\n",
    "print(\"                        |   |_|_|             |\")\n",
    "print(\"                        |   | | |             |\")\n",
    "print(\"                        |   |_|_|             |\")\n",
    "print(\"                        |                     |\")\n",
    "print(\"                        |                     |\")\n",
    "print(\"                        |                     |\")\n",
    "print(\"                        |                     |\")\n",
    "print(\"                        |        _____        |\")\n",
    "print(\"                        |       |     |       |\")\n",
    "print(\"                        |       |     |       |\")\n",
    "print(\"                        |       |   o |       |\")\n",
    "print(\"                        |       |     |       |\")\n",
    "print(\"                        |       |     |       |\")"
   ]
  },
  {
   "cell_type": "code",
   "execution_count": null,
   "id": "727f219d",
   "metadata": {},
   "outputs": [],
   "source": [
    "                              "
   ]
  }
 ],
 "metadata": {
  "kernelspec": {
   "display_name": "Python 3 (ipykernel)",
   "language": "python",
   "name": "python3"
  },
  "language_info": {
   "codemirror_mode": {
    "name": "ipython",
    "version": 3
   },
   "file_extension": ".py",
   "mimetype": "text/x-python",
   "name": "python",
   "nbconvert_exporter": "python",
   "pygments_lexer": "ipython3",
   "version": "3.9.12"
  }
 },
 "nbformat": 4,
 "nbformat_minor": 5
}
