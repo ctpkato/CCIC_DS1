{
 "cells": [
  {
   "cell_type": "code",
   "execution_count": 45,
   "id": "55f35c96",
   "metadata": {},
   "outputs": [
    {
     "data": {
      "text/plain": [
       "0.125"
      ]
     },
     "execution_count": 45,
     "metadata": {},
     "output_type": "execute_result"
    }
   ],
   "source": [
    "50/400"
   ]
  },
  {
   "cell_type": "code",
   "execution_count": 52,
   "id": "c3922004",
   "metadata": {},
   "outputs": [
    {
     "data": {
      "text/plain": [
       "-0.4375"
      ]
     },
     "execution_count": 52,
     "metadata": {},
     "output_type": "execute_result"
    }
   ],
   "source": [
    "(50/400/2)-1/2"
   ]
  },
  {
   "cell_type": "code",
   "execution_count": 50,
   "id": "2f726762",
   "metadata": {},
   "outputs": [
    {
     "data": {
      "text/plain": [
       "1288.05"
      ]
     },
     "execution_count": 50,
     "metadata": {},
     "output_type": "execute_result"
    }
   ],
   "source": [
    "1385-(1385*0.07)"
   ]
  },
  {
   "cell_type": "code",
   "execution_count": 57,
   "id": "a2d80ed7",
   "metadata": {},
   "outputs": [
    {
     "data": {
      "text/plain": [
       "5.716142857142856"
      ]
     },
     "execution_count": 57,
     "metadata": {},
     "output_type": "execute_result"
    }
   ],
   "source": [
    "((0.13+400)/50/14)*10"
   ]
  },
  {
   "cell_type": "code",
   "execution_count": 60,
   "id": "b81796e7",
   "metadata": {},
   "outputs": [
    {
     "data": {
      "text/plain": [
       "28.04905168589175"
      ]
     },
     "execution_count": 60,
     "metadata": {},
     "output_type": "execute_result"
    }
   ],
   "source": [
    "((0.7+1385)/1288/14)*365"
   ]
  },
  {
   "cell_type": "code",
   "execution_count": null,
   "id": "c52265a0",
   "metadata": {},
   "outputs": [],
   "source": []
  }
 ],
 "metadata": {
  "kernelspec": {
   "display_name": "Python 3 (ipykernel)",
   "language": "python",
   "name": "python3"
  },
  "language_info": {
   "codemirror_mode": {
    "name": "ipython",
    "version": 3
   },
   "file_extension": ".py",
   "mimetype": "text/x-python",
   "name": "python",
   "nbconvert_exporter": "python",
   "pygments_lexer": "ipython3",
   "version": "3.9.12"
  }
 },
 "nbformat": 4,
 "nbformat_minor": 5
}
