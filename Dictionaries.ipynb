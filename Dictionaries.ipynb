{
 "cells": [
  {
   "cell_type": "code",
   "execution_count": null,
   "id": "40851461",
   "metadata": {
    "scrolled": true
   },
   "outputs": [],
   "source": [
    "todolist={\"Sunday\": [\"Study\", \"Workout\", \"Grind Valorant\"],\n",
    "          \"Monday\": [\"Don't fail my classes and go to school\", \"Rest Day\"],\n",
    "          \"Tuesday\": [\"Don't fail my classes and go to school\", \"Rest Day\"],\n",
    "          \"Wednesday\": [\"Don't fail my classes and go to school\", \"Workout\"],\n",
    "          \"Thursday\": [\"Don't fail my classes and go to school\", \"Workout\"],\n",
    "          \"Friday\": [\"Don't fail my classes and go to school\", \"Workout\"],\n",
    "          \"Saturday\": [\"Study\", \"Workout\", \"Grind video games\"]}\n",
    "\n",
    "todolist[\"Monday\"]=input(\"Monday: \")\n",
    "todolist[\"Tuesday\"]=input(\"Tuesday: \")\n",
    "todolist[\"Wednesday\"]=input(\"Wednesday: \")\n",
    "todolist[\"Thursday\"]=input(\"Thusday: \")\n",
    "todolist[\"Friday\"]=input(\"Friday: \")\n",
    "todolist[\"Saturday\"]=input(\"Saturday: \")\n",
    "todolist[\"Sunday\"]=input(\"Sunday: \")\n",
    "\n",
    "print(\"Your todo list: \")\n",
    "print(todolist[\"Monday\"])\n",
    "print(todolist[\"Tuesday\"])\n",
    "print(todolist[\"Wednesday\"])\n",
    "print(todolist[\"Thursday\"])\n",
    "print(todolist[\"Friday\"])\n",
    "print(todolist[\"Saturday\"])\n",
    "print(todolist[\"Sunday\"])"
   ]
  },
  {
   "cell_type": "code",
   "execution_count": 23,
   "id": "2ae5201a",
   "metadata": {},
   "outputs": [
    {
     "name": "stdout",
     "output_type": "stream",
     "text": [
      "{'8/2/01': ['thursday', 60, 31, 53], '8/3/01': ['friday', 51, 24, 50], '8/4/01': ['saturday', 79, 21, 69], '8/5/01': ['sunday', 77, 39, 57], '8/6/01': ['monday', 93, 40, 66], '8/7/01': ['tuesday', 55, 32, 63], '8/8/02': ('wednesday', 87, 89, 1)}\n"
     ]
    }
   ],
   "source": [
    "colors={\"8/1/01\":[\"wednesday\", 50,25,71],\n",
    "        \"8/2/01\":[\"thursday\", 60,31,53], \n",
    "        \"8/3/01\":[\"friday\", 51,24,50],\n",
    "        \"8/4/01\":[\"saturday\", 79,21,69],\n",
    "        \"8/5/01\":[\"sunday\", 77,39,57],\n",
    "        \"8/6/01\":[\"monday\", 93,40,66],\n",
    "        \"8/7/01\":[\"tuesday\", 55,32,63]}\n",
    "\n",
    "colors[\"8/8/02\"]=\"wednesday\", 87, 89, 1\n",
    "del colors[\"8/1/01\"]\n",
    "print(colors)"
   ]
  },
  {
   "cell_type": "code",
   "execution_count": null,
   "id": "86e81908",
   "metadata": {},
   "outputs": [],
   "source": []
  }
 ],
 "metadata": {
  "kernelspec": {
   "display_name": "Python 3 (ipykernel)",
   "language": "python",
   "name": "python3"
  },
  "language_info": {
   "codemirror_mode": {
    "name": "ipython",
    "version": 3
   },
   "file_extension": ".py",
   "mimetype": "text/x-python",
   "name": "python",
   "nbconvert_exporter": "python",
   "pygments_lexer": "ipython3",
   "version": "3.9.12"
  }
 },
 "nbformat": 4,
 "nbformat_minor": 5
}
