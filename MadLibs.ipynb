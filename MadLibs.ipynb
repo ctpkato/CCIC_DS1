{
 "cells": [
  {
   "cell_type": "code",
   "execution_count": 32,
   "id": "a2573eaa",
   "metadata": {},
   "outputs": [
    {
     "name": "stdout",
     "output_type": "stream",
     "text": [
      "Proper Noun: a\n",
      "Proper Noun: a\n",
      "Proper Noun: a\n",
      "Noun: a\n",
      "Noun: \n",
      "Noun: a\n",
      "Noun: a\n",
      "Noun: a\n",
      "Noun: a\n",
      "Verb: a\n",
      "Verb: a\n",
      "Adjective: \n",
      "Adjective: a\n",
      "Adjective: a\n",
      "Adjective: a\n",
      "Verb ending with -ing: a\n",
      "Verb ending with -ing: a\n",
      "Verb ending with -ing: a\n",
      "Verb ending with -ing: a\n",
      "Where do you want this to take place? \n"
     ]
    }
   ],
   "source": [
    "proper1 = input(\"Proper Noun: \")\n",
    "proper2 = input(\"Proper Noun: \")\n",
    "proper3 = input(\"Proper Noun: \")\n",
    "noun1 = input(\"Noun: \")\n",
    "noun2 = input(\"Noun: \")\n",
    "noun3 = input(\"Noun: \")\n",
    "noun4 = input(\"Noun: \")\n",
    "noun5 = input(\"Noun: \")\n",
    "noun6 = input(\"Noun: \")\n",
    "verb1 = input(\"Verb: \")\n",
    "verb2 = input(\"Verb: \")\n",
    "adj1 = input(\"Adjective: \")\n",
    "adj2 = input(\"Adjective: \")\n",
    "adj3 = input(\"Adjective: \")\n",
    "adj4 = input(\"Adjective: \")\n",
    "ing1 = input(\"Verb ending with -ing: \")\n",
    "ing2 = input(\"Verb ending with -ing: \")\n",
    "ing3 = input(\"Verb ending with -ing: \")\n",
    "ing4 = input(\"Verb ending with -ing: \")\n",
    "\n",
    "country = input(\"Where do you want this to take place? \")"
   ]
  },
  {
   "cell_type": "code",
   "execution_count": 33,
   "id": "33385ad9",
   "metadata": {},
   "outputs": [
    {
     "name": "stdout",
     "output_type": "stream",
     "text": [
      "One day a and a went to  and they visited the great a. They had to a to get there as the  line was a. Thankfully, they arrived fast enough so they went and had fun. But however, a giant  had appeared and started a. Thankfully, aman arrived and started a the . After aman defeated the everyone cheered. President a the president of the country, gave him a a medal made of a and a.\n"
     ]
    }
   ],
   "source": [
    "print (\"One day \" +proper1+ \" and \" +proper2 + \" went to \" +country+ \" and they visited the great \" +noun1+ \". They had to \" +verb1+ \" to get there as the \" +adj1+ \" line was \" +ing1+ \". Thankfully, they arrived fast enough so they went and had fun. But however, a giant \" +noun2+ \" had appeared and started \" +ing2+ \". Thankfully, \" +noun3+ \"man arrived and started \" +ing3+ \" the \" +noun2+ \". After \" +noun3+ \"man defeated the \" +noun2+ \"everyone cheered. President \" +proper3+ \" the president of the country, gave him a \" +adj2+ \" medal made of \" +noun4+ \" and \" +noun5+\".\") "
   ]
  },
  {
   "cell_type": "code",
   "execution_count": null,
   "id": "504fb82b",
   "metadata": {},
   "outputs": [],
   "source": []
  }
 ],
 "metadata": {
  "kernelspec": {
   "display_name": "Python 3 (ipykernel)",
   "language": "python",
   "name": "python3"
  },
  "language_info": {
   "codemirror_mode": {
    "name": "ipython",
    "version": 3
   },
   "file_extension": ".py",
   "mimetype": "text/x-python",
   "name": "python",
   "nbconvert_exporter": "python",
   "pygments_lexer": "ipython3",
   "version": "3.9.12"
  }
 },
 "nbformat": 4,
 "nbformat_minor": 5
}
