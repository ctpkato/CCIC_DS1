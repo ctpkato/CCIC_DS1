{
 "cells": [
  {
   "cell_type": "code",
   "execution_count": 3,
   "id": "98658373",
   "metadata": {
    "scrolled": true
   },
   "outputs": [
    {
     "name": "stdout",
     "output_type": "stream",
     "text": [
      "[ is found in both lists\n",
      "3 is found in both lists\n",
      ", is found in both lists\n",
      ", is found in both lists\n",
      ", is found in both lists\n",
      ", is found in both lists\n",
      "  is found in both lists\n",
      "  is found in both lists\n",
      "  is found in both lists\n",
      "  is found in both lists\n",
      "2 is found in both lists\n",
      ", is found in both lists\n",
      ", is found in both lists\n",
      ", is found in both lists\n",
      ", is found in both lists\n",
      "  is found in both lists\n",
      "  is found in both lists\n",
      "  is found in both lists\n",
      "  is found in both lists\n",
      "5 is found in both lists\n",
      "] is found in both lists\n"
     ]
    }
   ],
   "source": [
    "one=str([3,2,5])\n",
    "two=str([5,3,7,9,2])\n",
    "\n",
    "for num in one:\n",
    "    for num2 in two:\n",
    "        if num == num2:\n",
    "            print(num + \" is found in both lists\")"
   ]
  },
  {
   "cell_type": "code",
   "execution_count": 7,
   "id": "de7eaf62",
   "metadata": {
    "scrolled": true
   },
   "outputs": [
    {
     "name": "stdout",
     "output_type": "stream",
     "text": [
      "What message do you want to send? hi\n",
      "....  ..  "
     ]
    }
   ],
   "source": [
    "message = str(input(\"What message do you want to send? \"))\n",
    "message = message.upper()\n",
    "\n",
    "char_to_dots = {\n",
    "  'A': '.-', 'B': '-...', 'C': '-.-.', 'D': '-..', 'E': '.', 'F': '..-.',\n",
    "  'G': '--.', 'H': '....', 'I': '..', 'J': '.---', 'K': '-.-', 'L': '.-..',\n",
    "  'M': '--', 'N': '-.', 'O': '---', 'P': '.--.', 'Q': '--.-', 'R': '.-.',\n",
    "  'S': '...', 'T': '-', 'U': '..-', 'V': '...-', 'W': '.--', 'X': '-..-',\n",
    "  'Y': '-.--', 'Z': '--..', ' ': ' ', '0': '-----',\n",
    "  '1': '.----', '2': '..---', '3': '...--', '4': '....-', '5': '.....',\n",
    "  '6': '-....', '7': '--...', '8': '---..', '9': '----.',\n",
    "  '&': '.-...', \"'\": '.----.', '@': '.--.-.', ')': '-.--.-', '(': '-.--.',\n",
    "  ':': '---...', ',': '--..--', '=': '-...-', '!': '-.-.--', '.': '.-.-.-',\n",
    "  '-': '-....-', '+': '.-.-.', '\"': '.-..-.', '?': '..--..', '/': '-..-.'\n",
    "}\n",
    "\n",
    "\n",
    "for letter in message:\n",
    "    print(char_to_dots[letter] + \" \", end=\" \")"
   ]
  },
  {
   "cell_type": "code",
   "execution_count": 1,
   "id": "3d51f27c",
   "metadata": {
    "scrolled": true
   },
   "outputs": [
    {
     "name": "stdout",
     "output_type": "stream",
     "text": [
      " k\n"
     ]
    },
    {
     "ename": "ValueError",
     "evalue": "invalid literal for int() with base 10: 'k'",
     "output_type": "error",
     "traceback": [
      "\u001b[1;31m---------------------------------------------------------------------------\u001b[0m",
      "\u001b[1;31mValueError\u001b[0m                                Traceback (most recent call last)",
      "Input \u001b[1;32mIn [1]\u001b[0m, in \u001b[0;36m<cell line: 1>\u001b[1;34m()\u001b[0m\n\u001b[1;32m----> 1\u001b[0m num \u001b[38;5;241m=\u001b[39m \u001b[38;5;28;43mint\u001b[39;49m\u001b[43m(\u001b[49m\u001b[38;5;28;43minput\u001b[39;49m\u001b[43m(\u001b[49m\u001b[38;5;124;43m\"\u001b[39;49m\u001b[38;5;124;43m \u001b[39;49m\u001b[38;5;124;43m\"\u001b[39;49m\u001b[43m)\u001b[49m\u001b[43m)\u001b[49m\n\u001b[0;32m      2\u001b[0m length \u001b[38;5;241m=\u001b[39m \u001b[38;5;28mint\u001b[39m(\u001b[38;5;28minput\u001b[39m(\u001b[38;5;124m\"\u001b[39m\u001b[38;5;124m \u001b[39m\u001b[38;5;124m\"\u001b[39m))\n\u001b[0;32m      4\u001b[0m \u001b[38;5;28;01mfor\u001b[39;00m i \u001b[38;5;129;01min\u001b[39;00m \u001b[38;5;28mrange\u001b[39m(num,length):\n",
      "\u001b[1;31mValueError\u001b[0m: invalid literal for int() with base 10: 'k'"
     ]
    }
   ],
   "source": [
    "num = int(input(\" \"))\n",
    "length = int(input(\" \"))\n",
    "             \n",
    "for i in range(num,length):\n",
    "    print(i*num)\n",
    "    append\n",
    "\n"
   ]
  },
  {
   "cell_type": "code",
   "execution_count": 28,
   "id": "cc1dd3f3",
   "metadata": {},
   "outputs": [
    {
     "name": "stdout",
     "output_type": "stream",
     "text": [
      "can see\n"
     ]
    }
   ],
   "source": [
    "seats = [[1, 2, 3, 2, 1, 1], \n",
    "         [2, 4, 4, 3, 2, 2]]\n",
    "\n",
    "can_see = 'can see'\n",
    "\n",
    "for c in range(len(seats[0])):\n",
    "    for r in range(len(seats)):\n",
    "        if r < len(seats)-1 and seats[r][c]>=seats[r+1][c]:\n",
    "            can_see = \"can't see\"\n",
    "            \n",
    "print(can_see)"
   ]
  },
  {
   "cell_type": "code",
   "execution_count": null,
   "id": "60cc278e",
   "metadata": {},
   "outputs": [],
   "source": []
  },
  {
   "cell_type": "code",
   "execution_count": null,
   "id": "e05a34ab",
   "metadata": {},
   "outputs": [],
   "source": []
  }
 ],
 "metadata": {
  "kernelspec": {
   "display_name": "Python 3 (ipykernel)",
   "language": "python",
   "name": "python3"
  },
  "language_info": {
   "codemirror_mode": {
    "name": "ipython",
    "version": 3
   },
   "file_extension": ".py",
   "mimetype": "text/x-python",
   "name": "python",
   "nbconvert_exporter": "python",
   "pygments_lexer": "ipython3",
   "version": "3.9.12"
  }
 },
 "nbformat": 4,
 "nbformat_minor": 5
}
