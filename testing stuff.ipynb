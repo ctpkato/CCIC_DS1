{
 "cells": [
  {
   "cell_type": "code",
   "execution_count": null,
   "id": "c8ae96ad",
   "metadata": {},
   "outputs": [],
   "source": [
    "x=[]\n",
    "print(x[1])"
   ]
  },
  {
   "cell_type": "code",
   "execution_count": null,
   "id": "9b3a327d",
   "metadata": {
    "scrolled": true
   },
   "outputs": [],
   "source": [
    "x=[[1,2,3],[4,5,6]]\n",
    "print(x[-1][-1])"
   ]
  },
  {
   "cell_type": "code",
   "execution_count": null,
   "id": "46e779b8",
   "metadata": {},
   "outputs": [],
   "source": [
    "x=[1,2,3,4,5,6]\n",
    "len(x)"
   ]
  },
  {
   "cell_type": "code",
   "execution_count": null,
   "id": "9014f38b",
   "metadata": {},
   "outputs": [],
   "source": [
    "schoolList=[[\"math\",\"a\",92],\n",
    "            [\"science\", \"a\", 93],\n",
    "            [\"english\", \"b\", 88],\n",
    "            [\"social studies\", \"b\", 86]]\n",
    "\n",
    "schoolList[2][-1]"
   ]
  },
  {
   "cell_type": "code",
   "execution_count": null,
   "id": "9684905f",
   "metadata": {},
   "outputs": [],
   "source": [
    "list=[[\"x\",\"y\",\"z\"],\n",
    "      [\"r\",\"s\",\"t\"],\n",
    "      [\"u\",\"v\",\"w\"]]\n",
    "\n",
    "list[len(list)-2][len(list)-2]"
   ]
  },
  {
   "cell_type": "code",
   "execution_count": null,
   "id": "10a865d8",
   "metadata": {},
   "outputs": [],
   "source": [
    "studentsList={\"A\": \"Spindt\", \"B\": \"Spindt\", \"D\": \"Spindt\", \"E\": \"Spindt\", \"S\": \"Spindt\", \"L\": \"Bowen\", \"M\": \"Bowen\", \"E\": \"Bowen\", \"R\": \"Bowen\", \"T\": \"Bowen\"}\n",
    "\n",
    "studentsList[\"L\"]"
   ]
  },
  {
   "cell_type": "code",
   "execution_count": null,
   "id": "fbf6c1a1",
   "metadata": {},
   "outputs": [],
   "source": [
    "stuff={\"1\": [1, 1.0, \"one\"], \"2\": [2, 2.0, \"two\"]}\n",
    "print(stuff[\"2\"][-1])"
   ]
  },
  {
   "cell_type": "code",
   "execution_count": null,
   "id": "afa38549",
   "metadata": {},
   "outputs": [],
   "source": [
    "alphabet={1: \"A\", 2: \"B\", 3: \"C\"}\n",
    "\n",
    "alphabet[1]=\"Y\"\n",
    "alphabet[1]"
   ]
  },
  {
   "cell_type": "code",
   "execution_count": null,
   "id": "5160e51d",
   "metadata": {},
   "outputs": [],
   "source": [
    "matrix=[[\"False\", False],\n",
    "        [\"True\", True],\n",
    "        [\"A\",3]]\n",
    "matrix[-3][-2]=\"true\"\n",
    "matrix[-1][-1]"
   ]
  },
  {
   "cell_type": "code",
   "execution_count": null,
   "id": "7796537c",
   "metadata": {},
   "outputs": [],
   "source": [
    "x=0\n",
    "while x < 5:\n",
    "    print(x)\n",
    "    x = x+1\n",
    "    if x <= 3:\n",
    "        print(\"less than 3\")\n",
    "    elif x == 3:\n",
    "        print(\"is 3\")\n",
    "    else:\n",
    "        print(\"more than 3\")"
   ]
  },
  {
   "cell_type": "code",
   "execution_count": null,
   "id": "e074069b",
   "metadata": {},
   "outputs": [],
   "source": [
    "fruits={\"yellow\": \"mango\", \"red\": \"apple\"}\n",
    "fruits[\"yellow\"]=\"banana\"\n",
    "\n",
    "print(fruits)"
   ]
  },
  {
   "cell_type": "code",
   "execution_count": null,
   "id": "a24f1ee1",
   "metadata": {
    "scrolled": true
   },
   "outputs": [],
   "source": [
    "0matrix=[[1,2,3], \n",
    "        [4,5,6]\n",
    "\n",
    "for row in matrix:\n",
    "    for column in row:\n",
    "        if column != 3:\n",
    "            print(\"Not three\")\n",
    "        else: \n",
    "            print(\"Three\")"
   ]
  },
  {
   "cell_type": "code",
   "execution_count": null,
   "id": "c09a69ce",
   "metadata": {},
   "outputs": [],
   "source": [
    "powers = [[1,2,3],\n",
    "          [4,3,6]]\n",
    "idx=0\n",
    "for row in powers:\n",
    "    for num in row:\n",
    "        row[idx]=row[idx]**row[idx]\n",
    "        print(row[idx])\n",
    "    idx=idx+1\n",
    "    \n",
    "print(powers[1][2])"
   ]
  },
  {
   "cell_type": "code",
   "execution_count": null,
   "id": "d0a55a88",
   "metadata": {
    "scrolled": true
   },
   "outputs": [],
   "source": [
    "(2*7)**(2*7)"
   ]
  },
  {
   "cell_type": "code",
   "execution_count": 8,
   "id": "26d0d0e6",
   "metadata": {},
   "outputs": [
    {
     "data": {
      "text/plain": [
       "16777216"
      ]
     },
     "execution_count": 8,
     "metadata": {},
     "output_type": "execute_result"
    }
   ],
   "source": [
    "(2*5)**(2*5)"
   ]
  },
  {
   "cell_type": "code",
   "execution_count": null,
   "id": "c1f73765",
   "metadata": {},
   "outputs": [],
   "source": []
  }
 ],
 "metadata": {
  "kernelspec": {
   "display_name": "Python 3 (ipykernel)",
   "language": "python",
   "name": "python3"
  },
  "language_info": {
   "codemirror_mode": {
    "name": "ipython",
    "version": 3
   },
   "file_extension": ".py",
   "mimetype": "text/x-python",
   "name": "python",
   "nbconvert_exporter": "python",
   "pygments_lexer": "ipython3",
   "version": "3.9.12"
  }
 },
 "nbformat": 4,
 "nbformat_minor": 5
}
