{
 "cells": [
  {
   "cell_type": "code",
   "execution_count": 50,
   "id": "c4b38677",
   "metadata": {},
   "outputs": [
    {
     "name": "stdout",
     "output_type": "stream",
     "text": [
      "Average of the right sides: 20.5 \n",
      "\n",
      "Average of the left sides: 18.5 \n",
      "\n",
      "Average of the first day: 15.5 \n",
      "\n",
      "Average of the first day: 23.5 \n",
      "\n"
     ]
    }
   ],
   "source": [
    "doorsList=[[\"day 1\", \"day 2\"],\n",
    "           [\"right\", 11, \"right\", 30], \n",
    "           [\"left\", 20, \"left\", 17]]\n",
    "\n",
    "#average of the right sides\n",
    "print(\"Average of the right sides: \" +str((doorsList[1][-1]+doorsList[1][-3])/2),\"\\n\")\n",
    "\n",
    "#average of the left sides\n",
    "print(\"Average of the left sides: \" +str((doorsList[2][-1]+doorsList[2][-3])/2),\"\\n\")\n",
    "\n",
    "#average of the first day\n",
    "print(\"Average of the first day: \" +str((doorsList[2][-3]+doorsList[1][-3])/2),\"\\n\")\n",
    "\n",
    "#average of the second day\n",
    "print(\"Average of the first day: \" +str((doorsList[2][-1]+doorsList[1][-1])/2),\"\\n\")"
   ]
  },
  {
   "cell_type": "code",
   "execution_count": null,
   "id": "f43e4ab3",
   "metadata": {},
   "outputs": [],
   "source": []
  }
 ],
 "metadata": {
  "kernelspec": {
   "display_name": "Python 3 (ipykernel)",
   "language": "python",
   "name": "python3"
  },
  "language_info": {
   "codemirror_mode": {
    "name": "ipython",
    "version": 3
   },
   "file_extension": ".py",
   "mimetype": "text/x-python",
   "name": "python",
   "nbconvert_exporter": "python",
   "pygments_lexer": "ipython3",
   "version": "3.9.12"
  }
 },
 "nbformat": 4,
 "nbformat_minor": 5
}
