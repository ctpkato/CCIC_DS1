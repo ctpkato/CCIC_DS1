{
 "cells": [
  {
   "cell_type": "code",
   "execution_count": 60,
   "id": "b8d9f6ef",
   "metadata": {},
   "outputs": [
    {
     "name": "stdout",
     "output_type": "stream",
     "text": [
      "15: *\n",
      "16: *******\n",
      "17: *****\n",
      "18+: **\n"
     ]
    }
   ],
   "source": [
    "x=0\n",
    "y=0\n",
    "z=0\n",
    "a=0\n",
    "ageList=[[15,1], \n",
    "         [16,7], \n",
    "         [17,5], \n",
    "         [\"18+\", 2]\n",
    "        ]\n",
    "\n",
    "for col in ageList:\n",
    "    for age in col:\n",
    "        if age == 15:\n",
    "            print(\"15: *\")\n",
    "        elif age == 16:\n",
    "            print(\"16: *******\")\n",
    "        elif age == 17:\n",
    "            print(\"17: *****\")\n",
    "        elif age == \"18+\":\n",
    "            print(\"18+: **\")"
   ]
  },
  {
   "cell_type": "code",
   "execution_count": null,
   "id": "e03f77b9",
   "metadata": {},
   "outputs": [],
   "source": []
  }
 ],
 "metadata": {
  "kernelspec": {
   "display_name": "Python 3 (ipykernel)",
   "language": "python",
   "name": "python3"
  },
  "language_info": {
   "codemirror_mode": {
    "name": "ipython",
    "version": 3
   },
   "file_extension": ".py",
   "mimetype": "text/x-python",
   "name": "python",
   "nbconvert_exporter": "python",
   "pygments_lexer": "ipython3",
   "version": "3.9.12"
  }
 },
 "nbformat": 4,
 "nbformat_minor": 5
}
